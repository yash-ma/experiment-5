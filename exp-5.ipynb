{
 "cells": [
  {
   "cell_type": "code",
   "execution_count": 3,
   "id": "ef890160",
   "metadata": {},
   "outputs": [
    {
     "name": "stdout",
     "output_type": "stream",
     "text": [
      "Requirement already satisfied: ucimlrepo in c:\\users\\mindb\\anaconda3\\lib\\site-packages (0.0.7)\n",
      "Requirement already satisfied: pandas>=1.0.0 in c:\\users\\mindb\\anaconda3\\lib\\site-packages (from ucimlrepo) (2.2.2)\n",
      "Requirement already satisfied: certifi>=2020.12.5 in c:\\users\\mindb\\anaconda3\\lib\\site-packages (from ucimlrepo) (2024.6.2)\n",
      "Requirement already satisfied: numpy>=1.26.0 in c:\\users\\mindb\\anaconda3\\lib\\site-packages (from pandas>=1.0.0->ucimlrepo) (1.26.4)\n",
      "Requirement already satisfied: python-dateutil>=2.8.2 in c:\\users\\mindb\\appdata\\roaming\\python\\python312\\site-packages (from pandas>=1.0.0->ucimlrepo) (2.9.0.post0)\n",
      "Requirement already satisfied: pytz>=2020.1 in c:\\users\\mindb\\anaconda3\\lib\\site-packages (from pandas>=1.0.0->ucimlrepo) (2024.1)\n",
      "Requirement already satisfied: tzdata>=2022.7 in c:\\users\\mindb\\anaconda3\\lib\\site-packages (from pandas>=1.0.0->ucimlrepo) (2023.3)\n",
      "Requirement already satisfied: six>=1.5 in c:\\users\\mindb\\appdata\\roaming\\python\\python312\\site-packages (from python-dateutil>=2.8.2->pandas>=1.0.0->ucimlrepo) (1.16.0)\n"
     ]
    }
   ],
   "source": [
    "!pip install ucimlrepo\n"
   ]
  },
  {
   "cell_type": "code",
   "execution_count": 4,
   "id": "b9dfa41f-9563-470f-9b00-c0b75a325c43",
   "metadata": {},
   "outputs": [],
   "source": [
    "# ===========================================\n",
    "# Experiment 5: Decision Tree from Scratch (Fixed Version)\n",
    "# ===========================================\n",
    "\n",
    "# --- Imports ---\n",
    "\n",
    "import numpy as np\n",
    "import pandas as pd\n",
    "from sklearn.model_selection import train_test_split\n",
    "from sklearn.metrics import accuracy_score, precision_score, recall_score, f1_score, confusion_matrix, classification_report\n",
    "from sklearn.preprocessing import LabelEncoder\n",
    "from sklearn.tree import DecisionTreeClassifier as SklearnTree"
   ]
  },
  {
   "cell_type": "code",
   "execution_count": 5,
   "id": "b7c1c0ad-863e-452e-b560-1e8c7cfa89c2",
   "metadata": {},
   "outputs": [
    {
     "name": "stdout",
     "output_type": "stream",
     "text": [
      "Train: (20838, 14) Validation: (5210, 14) Test: (6513, 14)\n"
     ]
    }
   ],
   "source": [
    "# ===========================================\n",
    "# 1. Load and Prepare the Dataset\n",
    "# ===========================================\n",
    "url = \"https://archive.ics.uci.edu/ml/machine-learning-databases/adult/adult.data\"\n",
    "columns = [\n",
    "    'age', 'workclass', 'fnlwgt', 'education', 'education-num', 'marital-status',\n",
    "    'occupation', 'relationship', 'race', 'sex', 'capital-gain', 'capital-loss',\n",
    "    'hours-per-week', 'native-country', 'income'\n",
    "]\n",
    "data = pd.read_csv(url, header=None, names=columns, na_values=' ?', skipinitialspace=True)\n",
    "\n",
    "# Drop missing values (keep X and y aligned)\n",
    "data = data.dropna()\n",
    "\n",
    "# Separate features and target\n",
    "X = data.drop('income', axis=1)\n",
    "y = data['income']\n",
    "\n",
    "# Encode categorical columns\n",
    "label_encoders = {}\n",
    "for col in X.select_dtypes(include='object').columns:\n",
    "    le = LabelEncoder()\n",
    "    X[col] = le.fit_transform(X[col])\n",
    "    label_encoders[col] = le\n",
    "\n",
    "# Encode target\n",
    "y = LabelEncoder().fit_transform(y)\n",
    "\n",
    "# Ensure aligned lengths\n",
    "assert len(X) == len(y), f\"X and y length mismatch: {len(X)} vs {len(y)}\"\n",
    "\n",
    "# Split into train-validation-test sets\n",
    "X_train_full, X_test, y_train_full, y_test = train_test_split(X, y, test_size=0.2, random_state=42)\n",
    "X_train, X_val, y_train, y_val = train_test_split(X_train_full, y_train_full, test_size=0.2, random_state=42)\n",
    "\n",
    "print(\"Train:\", X_train.shape, \"Validation:\", X_val.shape, \"Test:\", X_test.shape)"
   ]
  },
  {
   "cell_type": "code",
   "execution_count": 7,
   "id": "d08fad0b-e910-4fa1-b97d-b970a863bba4",
   "metadata": {},
   "outputs": [],
   "source": [
    "# ===========================================\n",
    "# 2. Decision Tree Implementation from Scratch\n",
    "# ===========================================\n",
    "class DecisionTreeScratch:\n",
    "    def __init__(self, max_depth=None, min_samples_split=2, criterion=\"gini\"):\n",
    "        self.max_depth = max_depth\n",
    "        self.min_samples_split = min_samples_split\n",
    "        self.criterion = criterion\n",
    "        self.tree = None\n",
    "\n",
    "    def _gini(self, y):\n",
    "        _, counts = np.unique(y, return_counts=True)\n",
    "        probs = counts / counts.sum()\n",
    "        return 1 - np.sum(probs ** 2)\n",
    "\n",
    "    def _entropy(self, y):\n",
    "        _, counts = np.unique(y, return_counts=True)\n",
    "        probs = counts / counts.sum()\n",
    "        return -np.sum(probs * np.log2(probs + 1e-9))\n",
    "\n",
    "    def _impurity(self, y):\n",
    "        return self._gini(y) if self.criterion == \"gini\" else self._entropy(y)\n",
    "\n",
    "    def _best_split(self, X, y):\n",
    "        best_gain = -1\n",
    "        best_split = None\n",
    "        parent_impurity = self._impurity(y)\n",
    "\n",
    "        for feature in range(X.shape[1]):\n",
    "            values = np.unique(X[:, feature])\n",
    "            for val in values:\n",
    "                left_idx = X[:, feature] <= val\n",
    "                right_idx = X[:, feature] > val\n",
    "                if len(y[left_idx]) < self.min_samples_split or len(y[right_idx]) < self.min_samples_split:\n",
    "                    continue\n",
    "\n",
    "                left_impurity = self._impurity(y[left_idx])\n",
    "                right_impurity = self._impurity(y[right_idx])\n",
    "                n = len(y)\n",
    "                child_impurity = (len(y[left_idx]) / n) * left_impurity + (len(y[right_idx]) / n) * right_impurity\n",
    "                info_gain = parent_impurity - child_impurity\n",
    "\n",
    "                if info_gain > best_gain:\n",
    "                    best_gain = info_gain\n",
    "                    best_split = {\"feature\": feature, \"threshold\": val, \"gain\": info_gain}\n",
    "\n",
    "        return best_split\n",
    "\n",
    "    def _build_tree(self, X, y, depth=0):\n",
    "        if len(np.unique(y)) == 1:\n",
    "            return {\"leaf\": True, \"class\": np.unique(y)[0]}\n",
    "        if self.max_depth is not None and depth >= self.max_depth:\n",
    "            return {\"leaf\": True, \"class\": np.bincount(y).argmax()}\n",
    "\n",
    "        split = self._best_split(X, y)\n",
    "        if not split or split[\"gain\"] <= 0:\n",
    "            return {\"leaf\": True, \"class\": np.bincount(y).argmax()}\n",
    "\n",
    "        left_idx = X[:, split[\"feature\"]] <= split[\"threshold\"]\n",
    "        right_idx = X[:, split[\"feature\"]] > split[\"threshold\"]\n",
    "\n",
    "        left_subtree = self._build_tree(X[left_idx], y[left_idx], depth + 1)\n",
    "        right_subtree = self._build_tree(X[right_idx], y[right_idx], depth + 1)\n",
    "\n",
    "        return {\n",
    "            \"leaf\": False,\n",
    "            \"feature\": split[\"feature\"],\n",
    "            \"threshold\": split[\"threshold\"],\n",
    "            \"left\": left_subtree,\n",
    "            \"right\": right_subtree,\n",
    "        }\n",
    "\n",
    "    def fit(self, X, y):\n",
    "        self.tree = self._build_tree(X, y)\n",
    "\n",
    "    def _predict_one(self, x, node):\n",
    "        if node[\"leaf\"]:\n",
    "            return node[\"class\"]\n",
    "        if x[node[\"feature\"]] <= node[\"threshold\"]:\n",
    "            return self._predict_one(x, node[\"left\"])\n",
    "        else:\n",
    "            return self._predict_one(x, node[\"right\"])\n",
    "\n",
    "    def predict(self, X):\n",
    "        return np.array([self._predict_one(x, self.tree) for x in X])"
   ]
  },
  {
   "cell_type": "code",
   "execution_count": 8,
   "id": "da0d4eac-5e2d-4a7e-a5df-18951c7bf018",
   "metadata": {},
   "outputs": [
    {
     "name": "stdout",
     "output_type": "stream",
     "text": [
      "\n",
      "Training tree with max_depth = 2\n",
      "Validation Accuracy: 0.8322456813819578\n",
      "\n",
      "Training tree with max_depth = 4\n",
      "Validation Accuracy: 0.8516314779270633\n",
      "\n",
      "Training tree with max_depth = 6\n",
      "Validation Accuracy: 0.8571976967370442\n",
      "\n",
      "Training tree with max_depth = None\n",
      "Validation Accuracy: 0.8166986564299424\n",
      "\n",
      "Best depth based on validation: 6\n"
     ]
    }
   ],
   "source": [
    "# ===========================================\n",
    "# 3. Train & Evaluate with Different Depths (Pre-Pruning)\n",
    "# ===========================================\n",
    "depths = [2, 4, 6, None]\n",
    "results = {}\n",
    "\n",
    "for d in depths:\n",
    "    print(f\"\\nTraining tree with max_depth = {d}\")\n",
    "    tree = DecisionTreeScratch(max_depth=d, criterion=\"gini\")\n",
    "    tree.fit(X_train.values, y_train)\n",
    "    y_pred = tree.predict(X_val.values)\n",
    "    acc = accuracy_score(y_val, y_pred)\n",
    "    results[d] = acc\n",
    "    print(\"Validation Accuracy:\", acc)\n",
    "\n",
    "best_depth = max(results, key=results.get)\n",
    "print(\"\\nBest depth based on validation:\", best_depth)"
   ]
  },
  {
   "cell_type": "code",
   "execution_count": 9,
   "id": "3dc9073e-199f-4984-b191-95d5789c34f0",
   "metadata": {},
   "outputs": [
    {
     "name": "stdout",
     "output_type": "stream",
     "text": [
      "\n",
      "Post-pruning placeholder (conceptual, can be expanded).\n"
     ]
    }
   ],
   "source": [
    "# ===========================================\n",
    "# 4. Post-Pruning (Reduced Error Pruning)\n",
    "# ===========================================\n",
    "print(\"\\nPost-pruning placeholder (conceptual, can be expanded).\")"
   ]
  },
  {
   "cell_type": "code",
   "execution_count": 10,
   "id": "39879412-7652-4161-a6a4-0b49b83ed24b",
   "metadata": {},
   "outputs": [
    {
     "name": "stdout",
     "output_type": "stream",
     "text": [
      "\n",
      "--- Custom Decision Tree Results ---\n",
      "Accuracy: 0.8547520343927529\n",
      "Precision: 0.8013500482160077\n",
      "Recall: 0.5289624443029918\n",
      "F1 Score: 0.6372699386503068\n",
      "Confusion Matrix:\n",
      " [[4736  206]\n",
      " [ 740  831]]\n",
      "              precision    recall  f1-score   support\n",
      "\n",
      "           0       0.86      0.96      0.91      4942\n",
      "           1       0.80      0.53      0.64      1571\n",
      "\n",
      "    accuracy                           0.85      6513\n",
      "   macro avg       0.83      0.74      0.77      6513\n",
      "weighted avg       0.85      0.85      0.84      6513\n",
      "\n",
      "\n",
      "--- Sklearn Decision Tree Results ---\n",
      "Accuracy: 0.8549055734684478\n",
      "Precision: 0.8021235521235521\n",
      "Recall: 0.5289624443029918\n",
      "F1 Score: 0.6375143843498274\n",
      "Confusion Matrix:\n",
      " [[4737  205]\n",
      " [ 740  831]]\n"
     ]
    }
   ],
   "source": [
    "# ===========================================\n",
    "# 5. Final Evaluation\n",
    "# ===========================================\n",
    "final_tree = DecisionTreeScratch(max_depth=best_depth, criterion=\"gini\")\n",
    "final_tree.fit(X_train_full.values, y_train_full)\n",
    "y_pred_test = final_tree.predict(X_test.values)\n",
    "\n",
    "print(\"\\n--- Custom Decision Tree Results ---\")\n",
    "print(\"Accuracy:\", accuracy_score(y_test, y_pred_test))\n",
    "print(\"Precision:\", precision_score(y_test, y_pred_test))\n",
    "print(\"Recall:\", recall_score(y_test, y_pred_test))\n",
    "print(\"F1 Score:\", f1_score(y_test, y_pred_test))\n",
    "print(\"Confusion Matrix:\\n\", confusion_matrix(y_test, y_pred_test))\n",
    "print(classification_report(y_test, y_pred_test))\n",
    "\n",
    "# ===========================================\n",
    "# 6. Compare with sklearn DecisionTreeClassifier\n",
    "# ===========================================\n",
    "clf = SklearnTree(max_depth=best_depth, criterion=\"gini\")\n",
    "clf.fit(X_train_full, y_train_full)\n",
    "y_pred_sklearn = clf.predict(X_test)\n",
    "\n",
    "print(\"\\n--- Sklearn Decision Tree Results ---\")\n",
    "print(\"Accuracy:\", accuracy_score(y_test, y_pred_sklearn))\n",
    "print(\"Precision:\", precision_score(y_test, y_pred_sklearn))\n",
    "print(\"Recall:\", recall_score(y_test, y_pred_sklearn))\n",
    "print(\"F1 Score:\", f1_score(y_test, y_pred_sklearn))\n",
    "print(\"Confusion Matrix:\\n\", confusion_matrix(y_test, y_pred_sklearn))"
   ]
  }
 ],
 "metadata": {
  "kernelspec": {
   "display_name": "base",
   "language": "python",
   "name": "python3"
  },
  "language_info": {
   "codemirror_mode": {
    "name": "ipython",
    "version": 3
   },
   "file_extension": ".py",
   "mimetype": "text/x-python",
   "name": "python",
   "nbconvert_exporter": "python",
   "pygments_lexer": "ipython3",
   "version": "3.12.4"
  }
 },
 "nbformat": 4,
 "nbformat_minor": 5
}
